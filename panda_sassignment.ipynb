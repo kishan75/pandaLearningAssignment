{
  "nbformat": 4,
  "nbformat_minor": 0,
  "metadata": {
    "colab": {
      "name": "panda sassignment",
      "provenance": [],
      "collapsed_sections": [],
      "authorship_tag": "ABX9TyNWaS2Pie3Vr5Ey4z31DzlR",
      "include_colab_link": true
    },
    "kernelspec": {
      "name": "python3",
      "display_name": "Python 3"
    },
    "language_info": {
      "name": "python"
    }
  },
  "cells": [
    {
      "cell_type": "markdown",
      "metadata": {
        "id": "view-in-github",
        "colab_type": "text"
      },
      "source": [
        "<a href=\"https://colab.research.google.com/github/kishan75/pandaLearningAssignment/blob/main/panda_sassignment.ipynb\" target=\"_parent\"><img src=\"https://colab.research.google.com/assets/colab-badge.svg\" alt=\"Open In Colab\"/></a>"
      ]
    },
    {
      "cell_type": "markdown",
      "metadata": {
        "id": "Z7CUmh2-EJzR"
      },
      "source": [
        "Importing covid-19 data from csv file (september 2019 - august 2020)"
      ]
    },
    {
      "cell_type": "code",
      "metadata": {
        "colab": {
          "base_uri": "https://localhost:8080/"
        },
        "id": "Hjo4KcwYRs5G",
        "outputId": "e8c5317f-2d96-48c2-dde6-ae1529fcb5e2"
      },
      "source": [
        "import pandas as pd\n",
        "\n",
        "\n",
        "data = pd.read_csv(\"covid_19_india.csv\", parse_dates=True)\n",
        "data.info()\n"
      ],
      "execution_count": null,
      "outputs": [
        {
          "output_type": "stream",
          "name": "stdout",
          "text": [
            "<class 'pandas.core.frame.DataFrame'>\n",
            "RangeIndex: 18110 entries, 0 to 18109\n",
            "Data columns (total 9 columns):\n",
            " #   Column                    Non-Null Count  Dtype \n",
            "---  ------                    --------------  ----- \n",
            " 0   Sno                       18110 non-null  int64 \n",
            " 1   Date                      18110 non-null  object\n",
            " 2   Time                      18110 non-null  object\n",
            " 3   State/UnionTerritory      18110 non-null  object\n",
            " 4   ConfirmedIndianNational   18110 non-null  object\n",
            " 5   ConfirmedForeignNational  18110 non-null  object\n",
            " 6   Cured                     18110 non-null  int64 \n",
            " 7   Deaths                    18110 non-null  int64 \n",
            " 8   Confirmed                 18110 non-null  int64 \n",
            "dtypes: int64(4), object(5)\n",
            "memory usage: 1.2+ MB\n"
          ]
        }
      ]
    },
    {
      "cell_type": "markdown",
      "metadata": {
        "id": "D1XY_IArEb7n"
      },
      "source": [
        "Extracting month from date"
      ]
    },
    {
      "cell_type": "code",
      "metadata": {
        "id": "QFNSV4eN_z4e"
      },
      "source": [
        "import datetime\n",
        "import calendar\n",
        "\n",
        "def get_month(val):\n",
        "    return calendar.month_abbr[datetime.datetime.strptime(val, \"%Y-%m-%d\").month]\n",
        "\n",
        "data['Date'] = data['Date'].apply(get_month)\n"
      ],
      "execution_count": null,
      "outputs": []
    },
    {
      "cell_type": "markdown",
      "metadata": {
        "id": "xQRXxocUEvdl"
      },
      "source": [
        "printing all state/union territory name"
      ]
    },
    {
      "cell_type": "code",
      "metadata": {
        "colab": {
          "base_uri": "https://localhost:8080/"
        },
        "id": "1TCYsirg3iTB",
        "outputId": "41269982-087c-444f-ade3-3e9bef7815d7"
      },
      "source": [
        "data['State/UnionTerritory'].unique()"
      ],
      "execution_count": null,
      "outputs": [
        {
          "output_type": "execute_result",
          "data": {
            "text/plain": [
              "array(['Kerala', 'Telengana', 'Delhi', 'Rajasthan', 'Uttar Pradesh',\n",
              "       'Haryana', 'Ladakh', 'Tamil Nadu', 'Karnataka', 'Maharashtra',\n",
              "       'Punjab', 'Jammu and Kashmir', 'Andhra Pradesh', 'Uttarakhand',\n",
              "       'Odisha', 'Puducherry', 'West Bengal', 'Chhattisgarh',\n",
              "       'Chandigarh', 'Gujarat', 'Himachal Pradesh', 'Madhya Pradesh',\n",
              "       'Bihar', 'Manipur', 'Mizoram', 'Andaman and Nicobar Islands',\n",
              "       'Goa', 'Unassigned', 'Assam', 'Jharkhand', 'Arunachal Pradesh',\n",
              "       'Tripura', 'Nagaland', 'Meghalaya',\n",
              "       'Dadra and Nagar Haveli and Daman and Diu',\n",
              "       'Cases being reassigned to states', 'Sikkim', 'Daman & Diu',\n",
              "       'Lakshadweep', 'Telangana', 'Dadra and Nagar Haveli', 'Bihar****',\n",
              "       'Madhya Pradesh***', 'Himanchal Pradesh', 'Karanataka',\n",
              "       'Maharashtra***'], dtype=object)"
            ]
          },
          "metadata": {},
          "execution_count": 3
        }
      ]
    },
    {
      "cell_type": "markdown",
      "metadata": {
        "id": "iowakZlPE39F"
      },
      "source": [
        "selecting state to show data "
      ]
    },
    {
      "cell_type": "code",
      "metadata": {
        "colab": {
          "base_uri": "https://localhost:8080/"
        },
        "id": "oaeTDr0UDpGa",
        "outputId": "f871820f-8355-472a-d83d-5afb429774a5"
      },
      "source": [
        "selected_state=input(\"select state or union territory\")"
      ],
      "execution_count": null,
      "outputs": [
        {
          "name": "stdout",
          "output_type": "stream",
          "text": [
            "select state or union territoryMadhya Pradesh\n"
          ]
        }
      ]
    },
    {
      "cell_type": "markdown",
      "metadata": {
        "id": "6dVqIWDoE-Af"
      },
      "source": [
        "here we are firstly fetching data of given state then ,\n",
        "grouping on basis of month, then selecting last report of that month,\n",
        "then sorting on basis of serial number (before it was sorted on month)"
      ]
    },
    {
      "cell_type": "code",
      "metadata": {
        "colab": {
          "base_uri": "https://localhost:8080/"
        },
        "id": "O81BMdX62xRw",
        "outputId": "87f0233b-4ff6-4592-eb21-2212a973991f"
      },
      "source": [
        "plotting_data=data[data['State/UnionTerritory']==selected_state].groupby(by='Date',as_index = False).max().sort_values(by = 'Sno')\n",
        "print(plotting_data)"
      ],
      "execution_count": null,
      "outputs": [
        {
          "output_type": "stream",
          "name": "stdout",
          "text": [
            "   Date    Sno     Time  ...   Cured Deaths Confirmed\n",
            "11  Sep   6825  8:00 AM  ...  102445   2281    126043\n",
            "10  Oct   7910  8:00 AM  ...  158455   2941    170690\n",
            "9   Nov   8960  8:00 AM  ...  186521   3250    204745\n",
            "2   Dec  10066  8:00 AM  ...  227965   3595    240947\n",
            "4   Jan  11182  8:00 AM  ...  248319   3807    254886\n",
            "3   Feb  12190  8:00 AM  ...  254874   3863    261403\n",
            "7   Mar  13306  9:30 PM  ...  273168   3977    293179\n",
            "0   Apr  14386  8:00 AM  ...  453331   5519    550927\n",
            "8   May  15502  8:00 AM  ...  743550   8019    778825\n",
            "6   Jun  16582  8:00 AM  ...  780187   8954    789771\n",
            "5   Jul  17698  8:00 AM  ...  781172  10513    791806\n",
            "1   Aug  18094  8:00 AM  ...  781330  10514    791980\n",
            "\n",
            "[12 rows x 9 columns]\n"
          ]
        }
      ]
    },
    {
      "cell_type": "markdown",
      "metadata": {
        "id": "S7MmveTtEHSs"
      },
      "source": [
        ""
      ]
    },
    {
      "cell_type": "code",
      "metadata": {
        "id": "jJninZTYO8uu",
        "colab": {
          "base_uri": "https://localhost:8080/",
          "height": 606
        },
        "outputId": "8a754172-1c6a-4043-e4be-f9ff0f53346b"
      },
      "source": [
        "import matplotlib.pyplot as plt\n",
        "fig, axe = plt.subplots(figsize=(20, 10))\n",
        "axe.set_ylabel('1000')\n",
        "plotting_data.plot.line(x=\"Date\",y=[\"Cured\",\"Confirmed\",\"Deaths\"],ax=axe);"
      ],
      "execution_count": null,
      "outputs": [
        {
          "output_type": "display_data",
          "data": {
            "image/png": "[encoded data removed]",
            "text/plain": [
              "<Figure size 1440x720 with 1 Axes>"
            ]
          },
          "metadata": {
            "needs_background": "light"
          }
        }
      ]
    }
  ]
}